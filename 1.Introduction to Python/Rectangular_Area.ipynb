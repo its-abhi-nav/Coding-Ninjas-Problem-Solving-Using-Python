{
 "cells": [
  {
   "cell_type": "markdown",
   "metadata": {},
   "source": [
    "# Rectangular Area\n",
    "You are given a rectangle in a plane. The corner coordinates of this rectangle is provided to you. You have to print the amount of area of the plane covered by this rectangles.<br>\n",
    "<br>\n",
    "The end coordinates are provided as four integral values: x1, y1, x2, y2. It is given that x1 < x2 and y1 < y2.<br>\n",
    "<br>\n",
    "Input format:<br>\n",
    "The first line of input contains an integer x1 (1 <= x1 <= 10)<br>\n",
    "The second line of input contains an integer y1 (1 <= y1 <= 10) <br>\n",
    "The third line of input contains an integer x2 (1 <= x2 <= 10)<br>\n",
    "The fourth line of input contains an integer y2 (1 <= y2 <= 10) <br>\n",
    "<br>\n",
    "Constraints:<br>\n",
    "Time Limit: 1 second<br>\n",
    "<br>\n",
    "Output format:<br>\n",
    "The first and only line of output contains the result.<br>\n",
    "<br>\n",
    "Sample Input:<br>\n",
    "1<br>\n",
    "1<br>\n",
    "3<br>\n",
    "3<br>\n",
    "Sample Output:<br>\n",
    "4"
   ]
  },
  {
   "cell_type": "code",
   "execution_count": null,
   "metadata": {},
   "outputs": [],
   "source": [
    "x1=int(input())\n",
    "y1=int(input())\n",
    "x2=int(input())\n",
    "y2=int(input())\n",
    "print((x2-x1)*(y2 - y1))"
   ]
  }
 ],
 "metadata": {
  "kernelspec": {
   "display_name": "Python 3",
   "language": "python",
   "name": "python3"
  },
  "language_info": {
   "codemirror_mode": {
    "name": "ipython",
    "version": 3
   },
   "file_extension": ".py",
   "mimetype": "text/x-python",
   "name": "python",
   "nbconvert_exporter": "python",
   "pygments_lexer": "ipython3",
   "version": "3.8.6"
  }
 },
 "nbformat": 4,
 "nbformat_minor": 4
}
